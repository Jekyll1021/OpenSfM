{
 "cells": [
  {
   "cell_type": "code",
   "execution_count": 3,
   "metadata": {
    "collapsed": true
   },
   "outputs": [],
   "source": [
    "import sys, os\n",
    "import numpy as np\n",
    "import glob\n",
    "import pickle\n",
    "import cv2\n",
    "import matplotlib.pyplot as plt\n",
    "import json\n",
    "import math\n",
    "from mpl_toolkits.mplot3d import Axes3D\n",
    "%matplotlib inline"
   ]
  },
  {
   "cell_type": "code",
   "execution_count": 4,
   "metadata": {
    "collapsed": false
   },
   "outputs": [],
   "source": [
    "def get_gps(json_path, video_filename):\n",
    "    with open(json_path) as data_file:    \n",
    "        data = json.load(data_file)\n",
    "    \n",
    "    seg = [x for x in data['segments'] if x['filename']==video_filename]\n",
    "    assert(len(seg)==1)\n",
    "    seg = seg[0]\n",
    "    locs = seg['locations']\n",
    "    loc2nparray = lambda locs, key: np.array([x[key] for x in locs]).ravel()\n",
    "    \n",
    "    res = {}\n",
    "    bad_video_c = 0\n",
    "    bad_video_t = 0\n",
    "    bad_video_same = 0\n",
    "    for ifile, f in enumerate(locs):\n",
    "        if int(f['course']) == -1 or int(f['speed']) == -1:\n",
    "            bad_video_c += 1   # Changed for interpolation\n",
    "            if bad_video_c >= 3:\n",
    "                break\n",
    "        if ifile != 0:\n",
    "            if int(f['timestamp'])-prev_t > 1100:\n",
    "                bad_video_t = 1\n",
    "                break\n",
    "            if abs(int(f['timestamp']) - int(prev_t)) < 1:\n",
    "                bad_video_same = 1\n",
    "                break\n",
    "        prev_t = f['timestamp']\n",
    "    if bad_video_c >= 3:\n",
    "        print('This is a bad video because course or speed is -1', json_path, video_filename)\n",
    "        return None\n",
    "    if bad_video_t:\n",
    "        print('This is a bad video because time sample not uniform', json_path, video_filename)\n",
    "        return None\n",
    "    if len(locs)==0:\n",
    "        print('This is a bad video because no location data available', json_path, video_filename)\n",
    "        return None\n",
    "    if bad_video_same:\n",
    "        print('This is a bad video because same timestamps', json_path, video_filename)\n",
    "        return None\n",
    "    \n",
    "    for key in locs[0].keys():\n",
    "        res[key]=loc2nparray(locs, key)\n",
    "\n",
    "    # add the starting time point and ending time point as well\n",
    "    res['startTime'] = seg['startTime']\n",
    "    res['endTime'] = seg['endTime']\n",
    "    \n",
    "    if res['timestamp'][0] - res['startTime'] > 2000:\n",
    "        print('This is bad video because starting time too far ahead', json_path, video_filename)\n",
    "        return None\n",
    "\n",
    "    if res['endTime'] - res['timestamp'][-1] > 2000:\n",
    "        print('This is bad video because ending time too far ahead', json_path, video_filename)\n",
    "        return None\n",
    "\n",
    "    return res"
   ]
  },
  {
   "cell_type": "code",
   "execution_count": 5,
   "metadata": {
    "collapsed": true
   },
   "outputs": [],
   "source": [
    "def fill_missing_speeds_and_courses(values, show_warning):\n",
    "    l = len(values)\n",
    "    for i in range(l):\n",
    "        if values[i] == -1:\n",
    "            if show_warning:\n",
    "                print(\"Warning: course==-1 appears, previous computation might not be reliable\")\n",
    "            if i == (l-1):\n",
    "                values[i] = values[i-1]\n",
    "            else:\n",
    "                if values[i+1] == -1:\n",
    "                    return None\n",
    "                values[i] = values[i+1]\n",
    "    return values"
   ]
  },
  {
   "cell_type": "code",
   "execution_count": 6,
   "metadata": {
    "collapsed": true
   },
   "outputs": [],
   "source": [
    "def get_interpolated_speed_xy(res, hz=15):     \n",
    "    def vec(speed, course):\n",
    "        t = math.radians(course)\n",
    "        return np.array([math.sin(t)*speed, math.cos(t)*speed])\n",
    "    \n",
    "    course = res['course']\n",
    "    speed0 = res['speed']\n",
    "    # first convert to speed vecs\n",
    "    l=len(course)\n",
    "    speed = np.zeros((l, 2), dtype = np.float32)\n",
    "    for i in range(l):\n",
    "        # interpolate when the number of missing speed is small\n",
    "        speed0 = fill_missing_speeds_and_courses(speed0, False)\n",
    "        course = fill_missing_speeds_and_courses(course, True)\n",
    "        if (speed0 is None) or (course is None):\n",
    "            return None\n",
    "\n",
    "        speed[i,:] = vec(speed0[i], course[i])\n",
    "\n",
    "    tot_ms = res['endTime'] - res['startTime']\n",
    "    # total number of output\n",
    "    nout = tot_ms * hz // 1000\n",
    "    out = np.zeros((nout, 2), dtype=np.float32)\n",
    "    \n",
    "    # if time is t second, there should be t+1 points\n",
    "    last_start = 0\n",
    "    ts = res['timestamp']\n",
    "    for i in range(nout):\n",
    "        # convert to ms timestamp\n",
    "        timenow = i * 1000.0 / hz + res['startTime']  \n",
    "        \n",
    "        while (last_start+1 < len(ts)) and (ts[last_start+1] < timenow):\n",
    "            last_start += 1\n",
    " \n",
    "        if last_start+1 == len(ts):                    \n",
    "            out[i, :] = speed[last_start, :]           \n",
    "        elif timenow <= ts[0]:\n",
    "            out[i, :] = speed[0, :]\n",
    "        else:\n",
    "            time1 = timenow - ts[last_start]\n",
    "            time2 = ts[last_start+1] - timenow\n",
    "            r1 = time2 / (time1 + time2)\n",
    "            r2 = time1 / (time1 + time2)\n",
    "            inter = r1*speed[last_start, :] + r2*speed[last_start+1, :]\n",
    "            out[i, :] = inter\n",
    "    return out"
   ]
  },
  {
   "cell_type": "code",
   "execution_count": 7,
   "metadata": {
    "collapsed": true
   },
   "outputs": [],
   "source": [
    "def get_interpolated_speed(json_path, video_filename, hz):\n",
    "    res = get_gps(json_path, video_filename)\n",
    "    if res is None:\n",
    "        return None\n",
    "    out = get_interpolated_speed_xy(res, hz)\n",
    "    return out"
   ]
  },
  {
   "cell_type": "code",
   "execution_count": 8,
   "metadata": {
    "collapsed": true
   },
   "outputs": [],
   "source": [
    "def gps_to_loc(speed, hz):\n",
    "    l = len(speed)\n",
    "    x_start = 0\n",
    "    y_start = 0\n",
    "    x = [x_start]\n",
    "    y = [y_start]\n",
    "    dtime = 1.0/hz\n",
    "    for i in range(l-1):\n",
    "        x.append(x[i]+dtime*speed[i][0])\n",
    "        y.append(y[i]+dtime*speed[i][1])\n",
    "        \n",
    "    return np.array(x),np.array(y)"
   ]
  },
  {
   "cell_type": "code",
   "execution_count": 9,
   "metadata": {
    "collapsed": true
   },
   "outputs": [],
   "source": [
    "def fit_plane(T):\n",
    "    l = len(T)\n",
    "    T = np.array(T).T\n",
    "    plane = np.linalg.svd(T)\n",
    "    #print(plane[0])\n",
    "    plane = plane[0][:,2]\n",
    "    print(plane)\n",
    "    \n",
    "    a = np.ones([1,l]) \n",
    "    new_T = np.concatenate((T,a), axis = 0)\n",
    "    new_plane = np.linalg.svd(new_T)\n",
    "    new_plane = new_plane[0][:,2]\n",
    "    print(new_plane)\n",
    "    return plane"
   ]
  },
  {
   "cell_type": "code",
   "execution_count": 10,
   "metadata": {
    "collapsed": false
   },
   "outputs": [],
   "source": [
    "def compute_R(vec_1, vec_2):\n",
    "    assert(np.linalg.norm(vec_1) == 1)\n",
    "    assert(np.linalg.norm(vec_2) == 1)\n",
    "    cross_product = np.cross(vec_1, vec_2)\n",
    "    inner_product = np.inner(vec_1, vec_2)\n",
    "    sine = np.linalg.norm(cross_product)\n",
    "    cos  = inner_product\n",
    "    v = cross_product\n",
    "    v_cross = np.array([[0,-v[2],v[1]],[v[2],0,-v[0]],[-v[1],v[0],0]])\n",
    "   \n",
    "    R = np.eye(3) + v_cross + v_cross.dot(v_cross)*(1-cos)/(sine**2)\n",
    "    return R"
   ]
  },
  {
   "cell_type": "code",
   "execution_count": 68,
   "metadata": {
    "collapsed": true
   },
   "outputs": [],
   "source": [
    "def visLoc(locs, label=\"NotSet\"):\n",
    "    axis=lambda i: [loc[i] for loc in locs]\n",
    "    plt.plot(axis(0), axis(1), 'ro')\n",
    "    #print(axis(0)[204:208])\n",
    "    #print(axis(1)[204:208])\n",
    "    #plt.plot(locs[:,0],locs[:,1])\n",
    "    plt.title(\"Moving paths from \" + label)\n",
    "    plt.xlabel(\"West -- East\")\n",
    "    plt.ylabel(\"South -- North\")\n",
    "    #plt.gca().set_aspect('equal', adjustable='box')\n",
    "    plt.show()"
   ]
  },
  {
   "cell_type": "code",
   "execution_count": 12,
   "metadata": {
    "collapsed": false
   },
   "outputs": [],
   "source": [
    "def camera_motion(camera_path,loc):\n",
    "    R = []\n",
    "    T = []\n",
    "    Name = []\n",
    "    l = loc.shape[1]\n",
    "    with open(camera_path) as f:\n",
    "        content = json.load(f)\n",
    "    content = content[0]['shots']\n",
    "    #print(content)\n",
    "    for i in range(l):\n",
    "        key = str(i+1).zfill(4)+'.jpg'\n",
    "        if content.has_key(key):\n",
    "            r = cv2.Rodrigues(np.array(content[key]['rotation']))\n",
    "            t = np.array(content[key]['translation'])\n",
    "            R.append(r[0])\n",
    "            T.append(t)\n",
    "            Name.append(key)\n",
    "    return R, T, Name"
   ]
  },
  {
   "cell_type": "code",
   "execution_count": 13,
   "metadata": {
    "collapsed": true
   },
   "outputs": [],
   "source": [
    "def camera_pose(R,T):\n",
    "    P = []\n",
    "    l = len(T)\n",
    "    for i in range(l):\n",
    "        pose = -np.array(R[i]).T.dot(T[i])\n",
    "        P.append(pose)\n",
    "    return P"
   ]
  },
  {
   "cell_type": "code",
   "execution_count": 14,
   "metadata": {
    "collapsed": true
   },
   "outputs": [],
   "source": [
    "def compute_scale(T, Name, loc):\n",
    "    scale = []\n",
    "    loc = loc.T\n",
    "    for i in range(0,len(T)-1):\n",
    "        name_1 = int(Name[i].split('.')[0])\n",
    "        name_2 = int(Name[i+1].split('.')[0])\n",
    "        #print(i)\n",
    "        #print(name_1)\n",
    "        #print(name_2)\n",
    "        dist_cam = T[i+1] - T[i]\n",
    "        dist_loc = loc[name_2 - 1] - loc[name_1 - 1] # gps\n",
    "        print(dist_cam)\n",
    "        print(dist_loc)\n",
    "        scale.append(np.linalg.norm(dist_loc)/np.linalg.norm(dist_cam))\n",
    "    scale = np.array(scale)\n",
    "    index = np.argsort(scale)\n",
    "    scale = scale[index[5:-5]]\n",
    "    return scale"
   ]
  },
  {
   "cell_type": "code",
   "execution_count": 26,
   "metadata": {
    "collapsed": true
   },
   "outputs": [],
   "source": [
    "def align(loc, P, scale):\n",
    "    loc_scale = loc*(1/scale)\n",
    "    loc_scale = loc_scale.T\n",
    "    loc_scale = loc_scale - loc_scale[0,:]\n",
    "    T_ = np.array(P).T\n",
    "    T_ = T_.T\n",
    "    T_ = T_ - T_[0,:]\n",
    "    return loc_scale, T_"
   ]
  },
  {
   "cell_type": "code",
   "execution_count": 66,
   "metadata": {
    "collapsed": false
   },
   "outputs": [],
   "source": [
    "def rotate_gps(loc_scale, T_, Name):\n",
    "    l = T_.shape[0]\n",
    "    \n",
    "    for i in range(1):\n",
    "        name_1 = int(Name[i].split('.')[0])\n",
    "        name_2 = int(Name[i+1].split('.')[0])\n",
    "        \n",
    "        vec_target = T_[i+1] - T_[i]\n",
    "        vec_source = loc_scale[name_2 - 1] - loc_scale[name_1 - 1]\n",
    "        vec_target = vec_target[0:2]/np.linalg.norm(vec_target[0:2])\n",
    "        vec_source = vec_source[0:2]/np.linalg.norm(vec_source[0:2])\n",
    "        \n",
    "        cos = np.inner(vec_target, vec_source)\n",
    "        cross_product = np.cross(vec_source, vec_target)\n",
    "        sine = np.linalg.norm(cross_product)\n",
    "        R_2D = np.array([[cos,-sine],[sine, cos]])\n",
    "        new_pos = R_2D.dot(loc_scale[:,0:2].T)\n",
    "        loc_scale_new = loc_scale\n",
    "        loc_scale_new[:,0:2] = new_pos.T\n",
    "    return loc_scale_new"
   ]
  },
  {
   "cell_type": "code",
   "execution_count": 69,
   "metadata": {
    "collapsed": false,
    "scrolled": false
   },
   "outputs": [
    {
     "data": {
      "image/png": "[encoded data removed]",
      "text/plain": [
       "<matplotlib.figure.Figure at 0x7fc6e902a150>"
      ]
     },
     "metadata": {},
     "output_type": "display_data"
    },
    {
     "data": {
      "image/png": "[encoded data removed]",
      "text/plain": [
       "<matplotlib.figure.Figure at 0x7fc6e568c490>"
      ]
     },
     "metadata": {},
     "output_type": "display_data"
    },
    {
     "data": {
      "image/png": "[encoded data removed]",
      "text/plain": [
       "<matplotlib.figure.Figure at 0x7fc6e5965e50>"
      ]
     },
     "metadata": {},
     "output_type": "display_data"
    }
   ],
   "source": [
    "if __name__ == '__main__':\n",
    "    path_to_camera = '/data/hxu/OpenSfM/data/47fa6807-46b4-4121-848b-beb291cc2d60/reconstruction.json'\n",
    "    if 1 != True:\n",
    "        path_to_gps = '/data/nx-bdd-20160929/ride/5502d0bfb3f65da76a82fb159ce75e21/ride.json'\n",
    "        path_to_video = '47fa6807-46b4-4121-848b-beb291cc2d60.mov'\n",
    "        \n",
    "        content = get_gps(path_to_gps, path_to_video)\n",
    "\n",
    "        content['course']=fill_missing_speeds_and_courses(content['course'],1)\n",
    "        out = get_interpolated_speed(path_to_gps, path_to_video, 30)\n",
    "\n",
    "        x,y = gps_to_loc(out, 30)\n",
    "\n",
    "        loc = np.array([x,y])\n",
    "\n",
    "        #\n",
    "        Z = np.expand_dims(np.zeros_like(x),0)\n",
    "\n",
    "        loc = np.concatenate((loc,Z),axis=0)\n",
    "        #### here we want to \n",
    "        R, T, Name = camera_motion(path_to_camera,loc)\n",
    "        P = camera_pose(R,T)\n",
    "        T_ = np.array(P).T\n",
    "        \n",
    "        \n",
    "        \n",
    "        #visLoc(np.array(T))\n",
    "        #w = R.dot(np.array(T).T)\n",
    "        #print(w.T)\n",
    "        #visLoc(w.T)\n",
    "        #print(path_to_camera)\n",
    "        #pln = fit_plane(T)\n",
    "        #R_proj = compute_R(pln,np.array([0,0,1]))\n",
    "        #T_ = R_proj.dot(np.array(T).T)\n",
    "        #T_ = T_.T\n",
    "        visLoc(T_.T)\n",
    "        scale = compute_scale(P, Name, loc)\n",
    "        scale = np.mean(scale)\n",
    "        print(scale)\n",
    "\n",
    "    loc_scale, T_ = align(loc, P, scale)\n",
    "    loc_scale_new = rotate_gps(loc_scale, T_, Name)\n",
    "    visLoc(T_[:])\n",
    "    visLoc(loc_scale_new)\n",
    "    visLoc(loc_scale)"
   ]
  },
  {
   "cell_type": "code",
   "execution_count": 63,
   "metadata": {
    "collapsed": false
   },
   "outputs": [
    {
     "ename": "AttributeError",
     "evalue": "'module' object has no attribute 'flip'",
     "traceback": [
      "\u001b[0;31m---------------------------------------------------------------------------\u001b[0m",
      "\u001b[0;31mAttributeError\u001b[0m                            Traceback (most recent call last)",
      "\u001b[0;32m<ipython-input-63-b29f06c6cf0c>\u001b[0m in \u001b[0;36m<module>\u001b[0;34m()\u001b[0m\n\u001b[1;32m      5\u001b[0m \u001b[0;31m#np.array([1,2,3])-2\u001b[0m\u001b[0;34m\u001b[0m\u001b[0;34m\u001b[0m\u001b[0m\n\u001b[1;32m      6\u001b[0m \u001b[0;31m#T_ - T_[0,:]#np.array([100000,1000000,10000000])\u001b[0m\u001b[0;34m\u001b[0m\u001b[0;34m\u001b[0m\u001b[0m\n\u001b[0;32m----> 7\u001b[0;31m \u001b[0mnp\u001b[0m\u001b[0;34m.\u001b[0m\u001b[0mflip\u001b[0m\u001b[0;34m(\u001b[0m\u001b[0;34m[\u001b[0m\u001b[0;36m1\u001b[0m\u001b[0;34m,\u001b[0m\u001b[0;36m2\u001b[0m\u001b[0;34m]\u001b[0m\u001b[0;34m)\u001b[0m\u001b[0;34m\u001b[0m\u001b[0m\n\u001b[0m",
      "\u001b[0;31mAttributeError\u001b[0m: 'module' object has no attribute 'flip'"
     ],
     "output_type": "error"
    }
   ],
   "source": [
    "#print(Name[45:47])\n",
    "#print(loc_scale[124:130,:])\n",
    "#print(P[44:47])\n",
    "#print(np.linalg.norm([1,2,3]))\n",
    "#np.array([1,2,3])-2\n",
    "#T_ - T_[0,:]#np.array([100000,1000000,10000000])\n",
    "np.flip([1,2])"
   ]
  },
  {
   "cell_type": "code",
   "execution_count": 29,
   "metadata": {
    "collapsed": false
   },
   "outputs": [
    {
     "name": "stdout",
     "output_type": "stream",
     "text": [
      "[ -40.10186003 -695.74382407   -1.00583086]\n",
      "[ -40.15307993 -693.08868705   -0.86590044]\n",
      "[ -40.27034678 -688.11358691   -0.70883913]\n",
      "[ -4.04179665e+01  -6.85040238e+02  -5.61341346e-01]\n",
      "[ -4.04313958e+01  -6.83416782e+02  -6.74605210e-01]\n",
      "[ -40.47466159 -681.45231002   -0.70267146]\n",
      "[ -4.06465955e+01  -6.77914275e+02  -6.47078965e-01]\n",
      "[ -4.07625442e+01  -6.75389816e+02  -6.05778325e-01]\n",
      "[ -4.08646701e+01  -6.73153630e+02  -5.81407802e-01]\n",
      "[ -4.09778420e+01  -6.70728130e+02  -5.97628670e-01]\n",
      "[ -4.11033210e+01  -6.68331243e+02  -5.67771367e-01]\n",
      "[ -4.12396379e+01  -6.65553580e+02  -4.85689939e-01]\n",
      "[ -4.12625455e+01  -6.64591956e+02  -5.58358946e-01]\n",
      "[ -4.13378673e+01  -6.63213154e+02  -5.13147580e-01]\n",
      "[ -4.14251101e+01  -6.60622597e+02  -5.40938900e-01]\n",
      "[ -4.15603596e+01  -6.56435886e+02  -4.96491178e-01]\n",
      "[ -4.16126470e+01  -6.53676323e+02  -4.63694552e-01]\n",
      "[ -4.17983055e+01  -6.51107947e+02  -5.04069684e-01]\n",
      "[ -4.19803225e+01  -6.45491505e+02  -5.30495584e-01]\n",
      "[ -4.20821201e+01  -6.42669429e+02  -4.91149475e-01]\n",
      "[ -4.22129452e+01  -6.39484743e+02  -4.50793606e-01]\n",
      "[ -4.23729053e+01  -6.36741091e+02  -4.91361238e-01]\n",
      "[ -4.25592810e+01  -6.31993186e+02  -4.89620953e-01]\n",
      "[ -4.26367946e+01  -6.30697276e+02  -5.58485069e-01]\n",
      "[ -42.76676111 -627.62877906   -0.66071067]\n",
      "[ -42.91825358 -622.9222841    -0.70442519]\n",
      "[ -43.05432894 -619.6360207    -0.74488732]\n",
      "[ -43.16280744 -615.3113983    -0.9023023 ]\n",
      "[ -43.24098984 -613.76940085   -0.88669345]\n",
      "[ -43.37719327 -610.66487477   -0.89256019]\n",
      "[ -43.49166768 -607.32948655   -0.87356448]\n",
      "[ -43.65119511 -602.38564987   -0.86814331]\n",
      "[ -43.94320139 -594.99551505   -0.72498816]\n",
      "[ -44.15455678 -586.62681935   -0.7429413 ]\n",
      "[ -44.29552498 -581.45200852   -0.67790382]\n",
      "[ -4.46673995e+01  -5.72056551e+02  -5.71563278e-01]\n",
      "[ -44.88773749 -561.70008215   -0.66226919]\n",
      "[ -45.23667838 -556.46842613   -0.68767992]\n",
      "[ -45.34024383 -551.2267888    -0.62425104]\n",
      "[ -4.58546149e+01  -5.39415274e+02  -3.95830696e-01]\n",
      "[ -4.59720475e+01  -5.32306395e+02  -4.63094781e-01]\n",
      "[ -4.62306189e+01  -5.24668469e+02  -3.58218098e-01]\n",
      "[ -4.63935738e+01  -5.18725570e+02  -3.19180018e-01]\n",
      "[ -4.64416559e+01  -5.14471536e+02  -1.27550129e-01]\n",
      "[ -4.65972769e+01  -5.08264530e+02  -1.50056780e-01]\n",
      "[ -4.68318327e+01  -5.00263245e+02  -2.68825905e-01]\n",
      "[ -4.83108087e+01  -4.27199593e+02   1.34161111e-01]\n",
      "[ -4.84024177e+01  -4.23120770e+02   1.59258581e-01]\n",
      "[ -4.84798051e+01  -4.21126485e+02   1.52268145e-01]\n",
      "[ -4.88341577e+01  -4.08558060e+02   2.25563383e-01]\n",
      "[ -4.90603376e+01  -4.00142465e+02   2.78643669e-01]\n",
      "[ -4.92749942e+01  -3.92014761e+02   2.69920062e-01]\n",
      "[ -4.97465313e+01  -3.78804964e+02   6.62421544e-02]\n",
      "[ -5.00318643e+01  -3.67903187e+02   9.87695296e-02]\n",
      "[ -5.01278389e+01  -3.61211676e+02   1.38434983e-01]\n",
      "[ -5.05910268e+01  -3.50606739e+02  -2.50568237e-01]\n",
      "[ -50.50901675 -342.16803864    0.44839112]\n",
      "[ -5.09086960e+01  -3.34934962e+02   2.62339039e-01]\n",
      "[ -5.11320589e+01  -3.31377392e+02   1.82200362e-01]\n",
      "[ -5.10865081e+01  -3.25519339e+02   2.18306292e-01]\n",
      "[ -5.12006495e+01  -3.21772559e+02   2.20855101e-01]\n",
      "[ -51.32364356 -311.64154544    0.32368186]\n",
      "[ -51.37238614 -307.54554529    0.37115126]\n",
      "[ -51.46058906 -303.64885649    0.37317947]\n",
      "[ -51.62552915 -300.02678928    0.36699085]\n",
      "[ -51.63994241 -296.02754859    0.43498314]\n",
      "[ -51.7727537  -290.03953158    0.53247658]\n",
      "[ -51.8039     -286.36217277    0.5816447 ]\n",
      "[ -51.90136444 -280.36945197    0.72210889]\n",
      "[ -52.04099198 -274.50915714    0.80498371]\n",
      "[ -52.14076609 -270.7258799     0.83589937]\n",
      "[ -52.17726311 -266.92018072    0.84861545]\n",
      "[ -52.26717307 -263.14149127    0.88840442]\n",
      "[ -52.31758851 -259.27297329    0.89437951]\n",
      "[ -52.40384955 -255.61548947    0.9268708 ]\n",
      "[ -52.44208587 -251.75786429    0.99159693]\n",
      "[ -52.57078963 -249.90264553    0.96723291]\n",
      "[ -52.57518    -245.9832191     1.05237644]\n",
      "[ -52.67764441 -240.33467766    1.071575  ]\n",
      "[ -52.79204148 -236.6806076     1.07876073]\n",
      "[ -52.81467433 -232.84052795    1.11315348]\n",
      "[ -52.90667911 -229.22139742    1.09544319]\n",
      "[ -52.9403184  -227.36552413    1.07106271]\n",
      "[ -52.96038387 -223.46207485    1.13519   ]\n",
      "[ -53.01657685 -221.71013638    1.08678519]\n",
      "[ -53.11868382 -217.95117183    1.10466327]\n",
      "[ -53.18599269 -214.2043209     1.09249399]\n",
      "[ -53.2459662  -212.3955442     1.06560511]\n",
      "[ -53.2920402  -208.56564909    1.0517742 ]\n",
      "[ -53.41074621 -205.0680751     0.95849233]\n",
      "[ -53.50681649 -199.5321066     0.92916939]\n",
      "[ -53.65247632 -196.02349932    0.88081574]\n",
      "[ -53.76113256 -186.50154606    0.90739024]\n",
      "[ -53.98123436 -181.34907641    0.7901781 ]\n",
      "[ -54.0038133  -175.53358018    0.84563877]\n",
      "[ -54.20048592 -168.31408018    0.733745  ]\n",
      "[ -54.46350464 -159.56397912    0.70688372]\n",
      "[ -54.5102286  -155.91842536    0.7110589 ]\n",
      "[ -54.54456499 -154.04299702    0.72268547]\n",
      "[ -54.69845194 -148.31859719    0.74014339]\n"
     ]
    }
   ],
   "source": [
    "#ax = fig.add_subplot(111, projection='3d')\n",
    "    #plt.gca().set_aspect('equal', adjustable='box')\n",
    "    #ax.plot3D(xs=T_[0,:],ys=T_[1,:],zs=0)\n",
    "    #plt.figure()\n",
    "    #plt.plot(w[1,:],'ro')"
   ]
  }
 ],
 "metadata": {
  "anaconda-cloud": {},
  "kernelspec": {
   "display_name": "Python [py27]",
   "language": "python",
   "name": "Python [py27]"
  },
  "language_info": {
   "codemirror_mode": {
    "name": "ipython",
    "version": 2.0
   },
   "file_extension": ".py",
   "mimetype": "text/x-python",
   "name": "python",
   "nbconvert_exporter": "python",
   "pygments_lexer": "ipython2",
   "version": "2.7.13"
  }
 },
 "nbformat": 4,
 "nbformat_minor": 0
}