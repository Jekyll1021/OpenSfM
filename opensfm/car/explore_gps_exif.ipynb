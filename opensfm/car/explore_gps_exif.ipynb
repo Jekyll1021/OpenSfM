{
 "cells": [
  {
   "cell_type": "code",
   "execution_count": 12,
   "metadata": {
    "collapsed": false
   },
   "outputs": [],
   "source": [
    "from PIL import Image\n",
    "from PIL.ExifTags import TAGS\n",
    "import sys\n",
    "sys.path.append(\"../../\")\n",
    "from opensfm.pexif import JpegFile\n",
    "\n",
    "base = \"/home/yang/bak/sample.jpg\"\n",
    "\n",
    "def get_exif(fn):\n",
    "    ret = {}\n",
    "    i = Image.open(fn)\n",
    "    info = i._getexif()\n",
    "    for tag, value in info.items():\n",
    "        decoded = TAGS.get(tag, tag)\n",
    "        ret[decoded] = value\n",
    "    return ret\n",
    "\n",
    "ret=get_exif(base)\n",
    "ret['GPSInfo']\n",
    "\n",
    "ef = JpegFile.fromFile(base)\n",
    "ef.set_geo(56, 67)\n",
    "ef.get_geo()\n",
    "ef.writeFile(base)"
   ]
  }
 ],
 "metadata": {
  "kernelspec": {
   "display_name": "Python 2",
   "language": "python",
   "name": "python2"
  },
  "language_info": {
   "codemirror_mode": {
    "name": "ipython",
    "version": 2
   },
   "file_extension": ".py",
   "mimetype": "text/x-python",
   "name": "python",
   "nbconvert_exporter": "python",
   "pygments_lexer": "ipython2",
   "version": "2.7.13"
  }
 },
 "nbformat": 4,
 "nbformat_minor": 0
}
